{
 "cells": [
  {
   "cell_type": "markdown",
   "id": "972ee306-ab7f-4ab5-8a99-9b6cb9083146",
   "metadata": {},
   "source": [
    "# Medidas de desempeño"
   ]
  },
  {
   "cell_type": "code",
   "execution_count": 2,
   "id": "e3ff5ff0-3d74-45a1-addf-d6784f66ef0f",
   "metadata": {},
   "outputs": [],
   "source": [
    "# Importar las librerias para cargar el dataset\n",
    "import numpy as np\n",
    "import pandas as pd"
   ]
  },
  {
   "cell_type": "code",
   "execution_count": 11,
   "id": "a60c5877-d53d-4bf5-8d5d-2fec8b70a8ab",
   "metadata": {},
   "outputs": [],
   "source": [
    "# Cargar el Dataset de Raisin con Dos Clases\n",
    "archivo_csv = 'Raisin_Dataset.csv'\n",
    "data = pd.read_csv(archivo_csv, delimiter=',')"
   ]
  },
  {
   "cell_type": "code",
   "execution_count": 21,
   "id": "9feb40e6-13c2-43f8-a699-3ae1274d37b1",
   "metadata": {},
   "outputs": [
    {
     "name": "stdout",
     "output_type": "stream",
     "text": [
      "Datos de X:       Area  MajorAxisLength  MinorAxisLength  Eccentricity  ConvexArea  \\\n",
      "0    87524       442.246011       253.291155      0.819738       90546   \n",
      "1    75166       406.690687       243.032436      0.801805       78789   \n",
      "2    90856       442.267048       266.328318      0.798354       93717   \n",
      "3    45928       286.540559       208.760042      0.684989       47336   \n",
      "4    79408       352.190770       290.827533      0.564011       81463   \n",
      "..     ...              ...              ...           ...         ...   \n",
      "895  83248       430.077308       247.838695      0.817263       85839   \n",
      "896  87350       440.735698       259.293149      0.808629       90899   \n",
      "897  99657       431.706981       298.837323      0.721684      106264   \n",
      "898  93523       476.344094       254.176054      0.845739       97653   \n",
      "899  85609       512.081774       215.271976      0.907345       89197   \n",
      "\n",
      "       Extent  Perimeter  \n",
      "0    0.758651   1184.040  \n",
      "1    0.684130   1121.786  \n",
      "2    0.637613   1208.575  \n",
      "3    0.699599    844.162  \n",
      "4    0.792772   1073.251  \n",
      "..        ...        ...  \n",
      "895  0.668793   1129.072  \n",
      "896  0.636476   1214.252  \n",
      "897  0.741099   1292.828  \n",
      "898  0.658798   1258.548  \n",
      "899  0.632020   1272.862  \n",
      "\n",
      "[900 rows x 7 columns]\n",
      "Datos de y_true: ['Kecimen', 'Kecimen', 'Kecimen', 'Kecimen', 'Kecimen', 'Kecimen', 'Kecimen', 'Kecimen', 'Kecimen', 'Kecimen', 'Kecimen', 'Kecimen', 'Kecimen', 'Kecimen', 'Kecimen', 'Kecimen', 'Kecimen', 'Kecimen', 'Kecimen', 'Kecimen', 'Kecimen', 'Kecimen', 'Kecimen', 'Kecimen', 'Kecimen', 'Kecimen', 'Kecimen', 'Kecimen', 'Kecimen', 'Kecimen', 'Kecimen', 'Kecimen', 'Kecimen', 'Kecimen', 'Kecimen', 'Kecimen', 'Kecimen', 'Kecimen', 'Kecimen', 'Kecimen', 'Kecimen', 'Kecimen', 'Kecimen', 'Kecimen', 'Kecimen', 'Kecimen', 'Kecimen', 'Kecimen', 'Kecimen', 'Kecimen', 'Kecimen', 'Kecimen', 'Kecimen', 'Kecimen', 'Kecimen', 'Kecimen', 'Kecimen', 'Kecimen', 'Kecimen', 'Kecimen', 'Kecimen', 'Kecimen', 'Kecimen', 'Kecimen', 'Kecimen', 'Kecimen', 'Kecimen', 'Kecimen', 'Kecimen', 'Kecimen', 'Kecimen', 'Kecimen', 'Kecimen', 'Kecimen', 'Kecimen', 'Kecimen', 'Kecimen', 'Kecimen', 'Kecimen', 'Kecimen', 'Kecimen', 'Kecimen', 'Kecimen', 'Kecimen', 'Kecimen', 'Kecimen', 'Kecimen', 'Kecimen', 'Kecimen', 'Kecimen', 'Kecimen', 'Kecimen', 'Kecimen', 'Kecimen', 'Kecimen', 'Kecimen', 'Kecimen', 'Kecimen', 'Kecimen', 'Kecimen', 'Kecimen', 'Kecimen', 'Kecimen', 'Kecimen', 'Kecimen', 'Kecimen', 'Kecimen', 'Kecimen', 'Kecimen', 'Kecimen', 'Kecimen', 'Kecimen', 'Kecimen', 'Kecimen', 'Kecimen', 'Kecimen', 'Kecimen', 'Kecimen', 'Kecimen', 'Kecimen', 'Kecimen', 'Kecimen', 'Kecimen', 'Kecimen', 'Kecimen', 'Kecimen', 'Kecimen', 'Kecimen', 'Kecimen', 'Kecimen', 'Kecimen', 'Kecimen', 'Kecimen', 'Kecimen', 'Kecimen', 'Kecimen', 'Kecimen', 'Kecimen', 'Kecimen', 'Kecimen', 'Kecimen', 'Kecimen', 'Kecimen', 'Kecimen', 'Kecimen', 'Kecimen', 'Kecimen', 'Kecimen', 'Kecimen', 'Kecimen', 'Kecimen', 'Kecimen', 'Kecimen', 'Kecimen', 'Kecimen', 'Kecimen', 'Kecimen', 'Kecimen', 'Kecimen', 'Kecimen', 'Kecimen', 'Kecimen', 'Kecimen', 'Kecimen', 'Kecimen', 'Kecimen', 'Kecimen', 'Kecimen', 'Kecimen', 'Kecimen', 'Kecimen', 'Kecimen', 'Kecimen', 'Kecimen', 'Kecimen', 'Kecimen', 'Kecimen', 'Kecimen', 'Kecimen', 'Kecimen', 'Kecimen', 'Kecimen', 'Kecimen', 'Kecimen', 'Kecimen', 'Kecimen', 'Kecimen', 'Kecimen', 'Kecimen', 'Kecimen', 'Kecimen', 'Kecimen', 'Kecimen', 'Kecimen', 'Kecimen', 'Kecimen', 'Kecimen', 'Kecimen', 'Kecimen', 'Kecimen', 'Kecimen', 'Kecimen', 'Kecimen', 'Kecimen', 'Kecimen', 'Kecimen', 'Kecimen', 'Kecimen', 'Kecimen', 'Kecimen', 'Kecimen', 'Kecimen', 'Kecimen', 'Kecimen', 'Kecimen', 'Kecimen', 'Kecimen', 'Kecimen', 'Kecimen', 'Kecimen', 'Kecimen', 'Kecimen', 'Kecimen', 'Kecimen', 'Kecimen', 'Kecimen', 'Kecimen', 'Kecimen', 'Kecimen', 'Kecimen', 'Kecimen', 'Kecimen', 'Kecimen', 'Kecimen', 'Kecimen', 'Kecimen', 'Kecimen', 'Kecimen', 'Kecimen', 'Kecimen', 'Kecimen', 'Kecimen', 'Kecimen', 'Kecimen', 'Kecimen', 'Kecimen', 'Kecimen', 'Kecimen', 'Kecimen', 'Kecimen', 'Kecimen', 'Kecimen', 'Kecimen', 'Kecimen', 'Kecimen', 'Kecimen', 'Kecimen', 'Kecimen', 'Kecimen', 'Kecimen', 'Kecimen', 'Kecimen', 'Kecimen', 'Kecimen', 'Kecimen', 'Kecimen', 'Kecimen', 'Kecimen', 'Kecimen', 'Kecimen', 'Kecimen', 'Kecimen', 'Kecimen', 'Kecimen', 'Kecimen', 'Kecimen', 'Kecimen', 'Kecimen', 'Kecimen', 'Kecimen', 'Kecimen', 'Kecimen', 'Kecimen', 'Kecimen', 'Kecimen', 'Kecimen', 'Kecimen', 'Kecimen', 'Kecimen', 'Kecimen', 'Kecimen', 'Kecimen', 'Kecimen', 'Kecimen', 'Kecimen', 'Kecimen', 'Kecimen', 'Kecimen', 'Kecimen', 'Kecimen', 'Kecimen', 'Kecimen', 'Kecimen', 'Kecimen', 'Kecimen', 'Kecimen', 'Kecimen', 'Kecimen', 'Kecimen', 'Kecimen', 'Kecimen', 'Kecimen', 'Kecimen', 'Kecimen', 'Kecimen', 'Kecimen', 'Kecimen', 'Kecimen', 'Kecimen', 'Kecimen', 'Kecimen', 'Kecimen', 'Kecimen', 'Kecimen', 'Kecimen', 'Kecimen', 'Kecimen', 'Kecimen', 'Kecimen', 'Kecimen', 'Kecimen', 'Kecimen', 'Kecimen', 'Kecimen', 'Kecimen', 'Kecimen', 'Kecimen', 'Kecimen', 'Kecimen', 'Kecimen', 'Kecimen', 'Kecimen', 'Kecimen', 'Kecimen', 'Kecimen', 'Kecimen', 'Kecimen', 'Kecimen', 'Kecimen', 'Kecimen', 'Kecimen', 'Kecimen', 'Kecimen', 'Kecimen', 'Kecimen', 'Kecimen', 'Kecimen', 'Kecimen', 'Kecimen', 'Kecimen', 'Kecimen', 'Kecimen', 'Kecimen', 'Kecimen', 'Kecimen', 'Kecimen', 'Kecimen', 'Kecimen', 'Kecimen', 'Kecimen', 'Kecimen', 'Kecimen', 'Kecimen', 'Kecimen', 'Kecimen', 'Kecimen', 'Kecimen', 'Kecimen', 'Kecimen', 'Kecimen', 'Kecimen', 'Kecimen', 'Kecimen', 'Kecimen', 'Kecimen', 'Kecimen', 'Kecimen', 'Kecimen', 'Kecimen', 'Kecimen', 'Kecimen', 'Kecimen', 'Kecimen', 'Kecimen', 'Kecimen', 'Kecimen', 'Kecimen', 'Kecimen', 'Kecimen', 'Kecimen', 'Kecimen', 'Kecimen', 'Kecimen', 'Kecimen', 'Kecimen', 'Kecimen', 'Kecimen', 'Kecimen', 'Kecimen', 'Kecimen', 'Kecimen', 'Kecimen', 'Kecimen', 'Kecimen', 'Kecimen', 'Kecimen', 'Kecimen', 'Kecimen', 'Kecimen', 'Kecimen', 'Kecimen', 'Kecimen', 'Kecimen', 'Kecimen', 'Kecimen', 'Kecimen', 'Kecimen', 'Kecimen', 'Kecimen', 'Kecimen', 'Kecimen', 'Kecimen', 'Kecimen', 'Kecimen', 'Kecimen', 'Kecimen', 'Kecimen', 'Kecimen', 'Kecimen', 'Kecimen', 'Kecimen', 'Kecimen', 'Kecimen', 'Kecimen', 'Kecimen', 'Kecimen', 'Kecimen', 'Kecimen', 'Kecimen', 'Kecimen', 'Besni', 'Besni', 'Besni', 'Besni', 'Besni', 'Besni', 'Besni', 'Besni', 'Besni', 'Besni', 'Besni', 'Besni', 'Besni', 'Besni', 'Besni', 'Besni', 'Besni', 'Besni', 'Besni', 'Besni', 'Besni', 'Besni', 'Besni', 'Besni', 'Besni', 'Besni', 'Besni', 'Besni', 'Besni', 'Besni', 'Besni', 'Besni', 'Besni', 'Besni', 'Besni', 'Besni', 'Besni', 'Besni', 'Besni', 'Besni', 'Besni', 'Besni', 'Besni', 'Besni', 'Besni', 'Besni', 'Besni', 'Besni', 'Besni', 'Besni', 'Besni', 'Besni', 'Besni', 'Besni', 'Besni', 'Besni', 'Besni', 'Besni', 'Besni', 'Besni', 'Besni', 'Besni', 'Besni', 'Besni', 'Besni', 'Besni', 'Besni', 'Besni', 'Besni', 'Besni', 'Besni', 'Besni', 'Besni', 'Besni', 'Besni', 'Besni', 'Besni', 'Besni', 'Besni', 'Besni', 'Besni', 'Besni', 'Besni', 'Besni', 'Besni', 'Besni', 'Besni', 'Besni', 'Besni', 'Besni', 'Besni', 'Besni', 'Besni', 'Besni', 'Besni', 'Besni', 'Besni', 'Besni', 'Besni', 'Besni', 'Besni', 'Besni', 'Besni', 'Besni', 'Besni', 'Besni', 'Besni', 'Besni', 'Besni', 'Besni', 'Besni', 'Besni', 'Besni', 'Besni', 'Besni', 'Besni', 'Besni', 'Besni', 'Besni', 'Besni', 'Besni', 'Besni', 'Besni', 'Besni', 'Besni', 'Besni', 'Besni', 'Besni', 'Besni', 'Besni', 'Besni', 'Besni', 'Besni', 'Besni', 'Besni', 'Besni', 'Besni', 'Besni', 'Besni', 'Besni', 'Besni', 'Besni', 'Besni', 'Besni', 'Besni', 'Besni', 'Besni', 'Besni', 'Besni', 'Besni', 'Besni', 'Besni', 'Besni', 'Besni', 'Besni', 'Besni', 'Besni', 'Besni', 'Besni', 'Besni', 'Besni', 'Besni', 'Besni', 'Besni', 'Besni', 'Besni', 'Besni', 'Besni', 'Besni', 'Besni', 'Besni', 'Besni', 'Besni', 'Besni', 'Besni', 'Besni', 'Besni', 'Besni', 'Besni', 'Besni', 'Besni', 'Besni', 'Besni', 'Besni', 'Besni', 'Besni', 'Besni', 'Besni', 'Besni', 'Besni', 'Besni', 'Besni', 'Besni', 'Besni', 'Besni', 'Besni', 'Besni', 'Besni', 'Besni', 'Besni', 'Besni', 'Besni', 'Besni', 'Besni', 'Besni', 'Besni', 'Besni', 'Besni', 'Besni', 'Besni', 'Besni', 'Besni', 'Besni', 'Besni', 'Besni', 'Besni', 'Besni', 'Besni', 'Besni', 'Besni', 'Besni', 'Besni', 'Besni', 'Besni', 'Besni', 'Besni', 'Besni', 'Besni', 'Besni', 'Besni', 'Besni', 'Besni', 'Besni', 'Besni', 'Besni', 'Besni', 'Besni', 'Besni', 'Besni', 'Besni', 'Besni', 'Besni', 'Besni', 'Besni', 'Besni', 'Besni', 'Besni', 'Besni', 'Besni', 'Besni', 'Besni', 'Besni', 'Besni', 'Besni', 'Besni', 'Besni', 'Besni', 'Besni', 'Besni', 'Besni', 'Besni', 'Besni', 'Besni', 'Besni', 'Besni', 'Besni', 'Besni', 'Besni', 'Besni', 'Besni', 'Besni', 'Besni', 'Besni', 'Besni', 'Besni', 'Besni', 'Besni', 'Besni', 'Besni', 'Besni', 'Besni', 'Besni', 'Besni', 'Besni', 'Besni', 'Besni', 'Besni', 'Besni', 'Besni', 'Besni', 'Besni', 'Besni', 'Besni', 'Besni', 'Besni', 'Besni', 'Besni', 'Besni', 'Besni', 'Besni', 'Besni', 'Besni', 'Besni', 'Besni', 'Besni', 'Besni', 'Besni', 'Besni', 'Besni', 'Besni', 'Besni', 'Besni', 'Besni', 'Besni', 'Besni', 'Besni', 'Besni', 'Besni', 'Besni', 'Besni', 'Besni', 'Besni', 'Besni', 'Besni', 'Besni', 'Besni', 'Besni', 'Besni', 'Besni', 'Besni', 'Besni', 'Besni', 'Besni', 'Besni', 'Besni', 'Besni', 'Besni', 'Besni', 'Besni', 'Besni', 'Besni', 'Besni', 'Besni', 'Besni', 'Besni', 'Besni', 'Besni', 'Besni', 'Besni', 'Besni', 'Besni', 'Besni', 'Besni', 'Besni', 'Besni', 'Besni', 'Besni', 'Besni', 'Besni', 'Besni', 'Besni', 'Besni', 'Besni', 'Besni', 'Besni', 'Besni', 'Besni', 'Besni', 'Besni', 'Besni', 'Besni', 'Besni', 'Besni', 'Besni', 'Besni', 'Besni', 'Besni', 'Besni', 'Besni', 'Besni', 'Besni', 'Besni', 'Besni', 'Besni', 'Besni', 'Besni', 'Besni', 'Besni', 'Besni', 'Besni', 'Besni', 'Besni', 'Besni', 'Besni', 'Besni', 'Besni', 'Besni', 'Besni', 'Besni', 'Besni', 'Besni', 'Besni', 'Besni', 'Besni', 'Besni', 'Besni', 'Besni', 'Besni', 'Besni', 'Besni', 'Besni', 'Besni', 'Besni', 'Besni', 'Besni', 'Besni', 'Besni', 'Besni', 'Besni', 'Besni', 'Besni', 'Besni', 'Besni', 'Besni', 'Besni', 'Besni', 'Besni', 'Besni', 'Besni', 'Besni', 'Besni', 'Besni', 'Besni', 'Besni', 'Besni', 'Besni', 'Besni', 'Besni', 'Besni', 'Besni', 'Besni', 'Besni', 'Besni', 'Besni', 'Besni', 'Besni', 'Besni', 'Besni', 'Besni', 'Besni']\n"
     ]
    }
   ],
   "source": [
    "# Separar características y la clase objetivo\n",
    "X = data.drop('Class', axis=1) \n",
    "y_true = data['Class'].tolist() \n",
    "\n",
    "print(f\"Datos de X: {X}\")\n",
    "print(f\"Datos de y_true: {y_true}\")"
   ]
  },
  {
   "cell_type": "code",
   "execution_count": 15,
   "id": "67c499f1-2f58-45a1-9356-8dbcd6497bc0",
   "metadata": {},
   "outputs": [],
   "source": [
    "# Funcion para calcular la matriz de confusion\n",
    "def matriz_confusion(y_true, y_pred):\n",
    "    TP = FN = FP = TN = 0\n",
    "    for i in range(len(y_true)):\n",
    "        if y_true[i] == 1 and y_pred[i] == 1:\n",
    "            TP += 1\n",
    "        elif y_true[i] == 1 and y_pred[i] == 0:\n",
    "            FN += 1\n",
    "        elif y_true[i] == 0 and y_pred[i] == 1:\n",
    "            FP += 1\n",
    "        elif y_true[i] == 0 and y_pred[i] == 0:\n",
    "            TN += 1\n",
    "    return TP, FN, FP, TN"
   ]
  },
  {
   "cell_type": "code",
   "execution_count": 17,
   "id": "68323caa-0032-4dea-a5b7-1678d6f41d6a",
   "metadata": {},
   "outputs": [],
   "source": [
    "# Funcion para calcular las metricas\n",
    "def calcular_metricas(TP, TN, FP, FN):\n",
    "    precision = TP / (TP + FP) if (TP + FP) > 0 else 0\n",
    "    recall = TP / (TP + FN) if (TP + FN) > 0 else 0\n",
    "    positive_predictive_value = precision\n",
    "    true_positive_rate = recall\n",
    "    true_negative_rate = TN / (TN + FP) if (TN + FP) > 0 else 0\n",
    "    false_positive_rate = FP / (FP + TN) if (FP + TN) > 0 else 0\n",
    "    false_negative_rate = FN / (FN + TP) if (FN + TP) > 0 else 0\n",
    "    f1_score = (2 * precision * recall) / (precision + recall) if (precision + recall) > 0 else 0\n",
    "    \n",
    "    # Calcular accuracy y error rate\n",
    "    total = TP + TN + FP + FN\n",
    "    accuracy = (TP + TN) / total if total > 0 else 0\n",
    "    error_rate = (FP + FN) / total if total > 0 else 0\n",
    "\n",
    "    return {\n",
    "        \"Accuracy\": accuracy,\n",
    "        \"Error Rate\": error_rate,\n",
    "        \"Precision\": precision,\n",
    "        \"Recall\": recall,\n",
    "        \"Positive Predictive Value\": positive_predictive_value,\n",
    "        \"True Positive Rate\": true_positive_rate,\n",
    "        \"True Negative Rate\": true_negative_rate,\n",
    "        \"False Positive Rate\": false_positive_rate,\n",
    "        \"False Negative Rate\": false_negative_rate,\n",
    "        \"F1-Score\": f1_score,\n",
    "    }"
   ]
  },
  {
   "cell_type": "code",
   "execution_count": 19,
   "id": "60c6bd79-64f0-4a7d-bb7c-cf252a191c57",
   "metadata": {},
   "outputs": [
    {
     "ename": "NameError",
     "evalue": "name 'y_pred' is not defined",
     "output_type": "error",
     "traceback": [
      "\u001b[1;31m---------------------------------------------------------------------------\u001b[0m",
      "\u001b[1;31mNameError\u001b[0m                                 Traceback (most recent call last)",
      "Cell \u001b[1;32mIn[19], line 2\u001b[0m\n\u001b[0;32m      1\u001b[0m \u001b[38;5;66;03m# Calcular la matriz de confusion\u001b[39;00m\n\u001b[1;32m----> 2\u001b[0m TP, TN, FP, FN \u001b[38;5;241m=\u001b[39m matriz_confusion(y_true, y_pred)\n\u001b[0;32m      4\u001b[0m \u001b[38;5;66;03m# Calcular las metricas\u001b[39;00m\n\u001b[0;32m      5\u001b[0m metricas \u001b[38;5;241m=\u001b[39m calcular_metricas(TP, TN, FP, FN)\n",
      "\u001b[1;31mNameError\u001b[0m: name 'y_pred' is not defined"
     ]
    }
   ],
   "source": [
    "# Calcular la matriz de confusion\n",
    "TP, TN, FP, FN = matriz_confusion(y_true, y_pred)\n",
    "\n",
    "# Calcular las metricas\n",
    "metricas = calcular_metricas(TP, TN, FP, FN)"
   ]
  },
  {
   "cell_type": "code",
   "execution_count": null,
   "id": "da8ce11b-4bea-44a0-b5b6-f3ab2f6ee960",
   "metadata": {},
   "outputs": [],
   "source": []
  }
 ],
 "metadata": {
  "kernelspec": {
   "display_name": "Python 3 (ipykernel)",
   "language": "python",
   "name": "python3"
  },
  "language_info": {
   "codemirror_mode": {
    "name": "ipython",
    "version": 3
   },
   "file_extension": ".py",
   "mimetype": "text/x-python",
   "name": "python",
   "nbconvert_exporter": "python",
   "pygments_lexer": "ipython3",
   "version": "3.12.3"
  }
 },
 "nbformat": 4,
 "nbformat_minor": 5
}
